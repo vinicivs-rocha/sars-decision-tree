{
 "cells": [
  {
   "cell_type": "markdown",
   "metadata": {},
   "source": [
    "# Collect data"
   ]
  },
  {
   "cell_type": "code",
   "execution_count": 1,
   "metadata": {
    "colab": {
     "base_uri": "https://localhost:8080/"
    },
    "id": "DCc0WLMnBOGm",
    "outputId": "eb43c28a-f7a0-47ad-b206-804a965a2c1f"
   },
   "outputs": [
    {
     "name": "stderr",
     "output_type": "stream",
     "text": [
      "/tmp/ipykernel_10738/4069637141.py:3: DtypeWarning: Columns (4,11,18,19,20,21,22,27,28,31,32,36) have mixed types. Specify dtype option on import or set low_memory=False.\n",
      "  df = pd.read_csv('data/base.csv', sep=';')\n"
     ]
    }
   ],
   "source": [
    "import pandas as pd\n",
    "\n",
    "df = pd.read_csv('data/base.csv', sep=';')"
   ]
  },
  {
   "cell_type": "markdown",
   "metadata": {},
   "source": [
    "# Filter data"
   ]
  },
  {
   "cell_type": "markdown",
   "metadata": {},
   "source": [
    "## Remove missing data"
   ]
  },
  {
   "cell_type": "markdown",
   "metadata": {},
   "source": [
    "### Inspect missing values"
   ]
  },
  {
   "cell_type": "code",
   "execution_count": 2,
   "metadata": {},
   "outputs": [
    {
     "data": {
      "text/plain": [
       "Unnamed: 0                            0\n",
       "sintomas                            334\n",
       "racaCor                           21583\n",
       "outrosSintomas                  3292526\n",
       "outrasCondicoes                 6240233\n",
       "cbo                             6081056\n",
       "condicoes                       5733568\n",
       "sexo                                 41\n",
       "estado                               61\n",
       "estadoIBGE                      1234517\n",
       "municipio                            67\n",
       "municipioIBGE                   1248796\n",
       "origem                              369\n",
       "estadoNotificacao                     0\n",
       "municipioNotificacao              27355\n",
       "municipioNotificacaoIBGE        2558498\n",
       "evolucaoCaso                    1147649\n",
       "classificacaoFinal              1228707\n",
       "codigoLaboratorioSegundaDose    4167656\n",
       "lotePrimeiraDose                3834313\n",
       "loteSegundaDose                 4167812\n",
       "codigoDosesVacina               3621993\n",
       "estadoNotificacaoIBGE           2531598\n",
       "totalTestesRealizados                 4\n",
       "dataNotificacao                   29660\n",
       "dataInicioSintomas              1921447\n",
       "dataEncerramento                1300131\n",
       "dataPrimeiraDose                3879969\n",
       "dataSegundaDose                 4222258\n",
       "codigoResultadoTeste1            907422\n",
       "codigoResultadoTeste2           6136542\n",
       "codigoResultadoTeste3           6358561\n",
       "codigoResultadoTeste4           6377763\n",
       "dataColetaTeste1                 671119\n",
       "dataColetaTeste2                6116611\n",
       "dataColetaTeste3                6359590\n",
       "dataColetaTeste4                6377711\n",
       "idade                            101981\n",
       "faixa_etaria                     134495\n",
       "dtype: int64"
      ]
     },
     "execution_count": 2,
     "metadata": {},
     "output_type": "execute_result"
    }
   ],
   "source": [
    "df.isna().sum()"
   ]
  },
  {
   "cell_type": "markdown",
   "metadata": {},
   "source": [
    "### Drop high missing-rate columns"
   ]
  },
  {
   "cell_type": "code",
   "execution_count": 3,
   "metadata": {},
   "outputs": [],
   "source": [
    "threshold = 0.9 * len(df)\n",
    "df = df.loc[:, df.isna().sum() < threshold]"
   ]
  },
  {
   "cell_type": "markdown",
   "metadata": {},
   "source": [
    "### Drop missing-value records"
   ]
  },
  {
   "cell_type": "code",
   "execution_count": 4,
   "metadata": {},
   "outputs": [],
   "source": [
    "df.dropna(inplace=True)"
   ]
  },
  {
   "cell_type": "markdown",
   "metadata": {},
   "source": [
    "## Remove future-bound columns"
   ]
  },
  {
   "cell_type": "markdown",
   "metadata": {},
   "source": [
    "### Inspect columns"
   ]
  },
  {
   "cell_type": "code",
   "execution_count": 5,
   "metadata": {},
   "outputs": [
    {
     "data": {
      "text/plain": [
       "Index(['Unnamed: 0', 'sintomas', 'racaCor', 'outrosSintomas', 'condicoes',\n",
       "       'sexo', 'estado', 'estadoIBGE', 'municipio', 'municipioIBGE', 'origem',\n",
       "       'estadoNotificacao', 'municipioNotificacao', 'municipioNotificacaoIBGE',\n",
       "       'evolucaoCaso', 'classificacaoFinal', 'codigoLaboratorioSegundaDose',\n",
       "       'lotePrimeiraDose', 'loteSegundaDose', 'codigoDosesVacina',\n",
       "       'estadoNotificacaoIBGE', 'totalTestesRealizados', 'dataNotificacao',\n",
       "       'dataInicioSintomas', 'dataEncerramento', 'dataPrimeiraDose',\n",
       "       'dataSegundaDose', 'codigoResultadoTeste1', 'dataColetaTeste1', 'idade',\n",
       "       'faixa_etaria'],\n",
       "      dtype='object')"
      ]
     },
     "execution_count": 5,
     "metadata": {},
     "output_type": "execute_result"
    }
   ],
   "source": [
    "df.columns"
   ]
  },
  {
   "cell_type": "markdown",
   "metadata": {},
   "source": [
    "### Drop columns"
   ]
  },
  {
   "cell_type": "code",
   "execution_count": 6,
   "metadata": {
    "id": "HIBLZ8-qCDR6"
   },
   "outputs": [],
   "source": [
    "df.drop(df.columns[[14, 24]], axis=1, inplace=True)"
   ]
  },
  {
   "cell_type": "markdown",
   "metadata": {},
   "source": [
    "## Remove useless columns"
   ]
  },
  {
   "cell_type": "markdown",
   "metadata": {},
   "source": [
    "### Drop columns"
   ]
  },
  {
   "cell_type": "code",
   "execution_count": 7,
   "metadata": {},
   "outputs": [],
   "source": [
    "df.drop(df.columns[[0, 10]], axis=1, inplace=True)"
   ]
  },
  {
   "cell_type": "markdown",
   "metadata": {},
   "source": [
    "## Remove redundant data"
   ]
  },
  {
   "cell_type": "markdown",
   "metadata": {},
   "source": [
    "### Inspect columns"
   ]
  },
  {
   "cell_type": "code",
   "execution_count": 8,
   "metadata": {},
   "outputs": [
    {
     "data": {
      "text/plain": [
       "Index(['sintomas', 'racaCor', 'outrosSintomas', 'condicoes', 'sexo', 'estado',\n",
       "       'estadoIBGE', 'municipio', 'municipioIBGE', 'estadoNotificacao',\n",
       "       'municipioNotificacao', 'municipioNotificacaoIBGE',\n",
       "       'classificacaoFinal', 'codigoLaboratorioSegundaDose',\n",
       "       'lotePrimeiraDose', 'loteSegundaDose', 'codigoDosesVacina',\n",
       "       'estadoNotificacaoIBGE', 'totalTestesRealizados', 'dataNotificacao',\n",
       "       'dataInicioSintomas', 'dataPrimeiraDose', 'dataSegundaDose',\n",
       "       'codigoResultadoTeste1', 'dataColetaTeste1', 'idade', 'faixa_etaria'],\n",
       "      dtype='object')"
      ]
     },
     "execution_count": 8,
     "metadata": {},
     "output_type": "execute_result"
    }
   ],
   "source": [
    "df.columns"
   ]
  },
  {
   "cell_type": "markdown",
   "metadata": {},
   "source": [
    "### Drop columns"
   ]
  },
  {
   "cell_type": "code",
   "execution_count": 9,
   "metadata": {},
   "outputs": [],
   "source": [
    "df.drop(df.columns[[5, 7, 9, 10, 26]], axis=1, inplace=True)"
   ]
  },
  {
   "cell_type": "markdown",
   "metadata": {},
   "source": [
    "## Remove biasable columns"
   ]
  },
  {
   "cell_type": "markdown",
   "metadata": {},
   "source": [
    "### Inspect data"
   ]
  },
  {
   "cell_type": "code",
   "execution_count": 10,
   "metadata": {},
   "outputs": [
    {
     "data": {
      "text/plain": [
       "Index(['sintomas', 'racaCor', 'outrosSintomas', 'condicoes', 'sexo',\n",
       "       'estadoIBGE', 'municipioIBGE', 'municipioNotificacaoIBGE',\n",
       "       'classificacaoFinal', 'codigoLaboratorioSegundaDose',\n",
       "       'lotePrimeiraDose', 'loteSegundaDose', 'codigoDosesVacina',\n",
       "       'estadoNotificacaoIBGE', 'totalTestesRealizados', 'dataNotificacao',\n",
       "       'dataInicioSintomas', 'dataPrimeiraDose', 'dataSegundaDose',\n",
       "       'codigoResultadoTeste1', 'dataColetaTeste1', 'idade'],\n",
       "      dtype='object')"
      ]
     },
     "execution_count": 10,
     "metadata": {},
     "output_type": "execute_result"
    }
   ],
   "source": [
    "df.columns"
   ]
  },
  {
   "cell_type": "markdown",
   "metadata": {},
   "source": [
    "### Drop columns"
   ]
  },
  {
   "cell_type": "code",
   "execution_count": 11,
   "metadata": {},
   "outputs": [],
   "source": [
    "df.drop(df.columns[[19, 20]], axis=1, inplace=True)"
   ]
  },
  {
   "cell_type": "markdown",
   "metadata": {},
   "source": [
    "## Select the two main labels"
   ]
  },
  {
   "cell_type": "markdown",
   "metadata": {},
   "source": [
    "### Inspect labels"
   ]
  },
  {
   "cell_type": "code",
   "execution_count": 12,
   "metadata": {
    "colab": {
     "base_uri": "https://localhost:8080/"
    },
    "id": "rCw30v0EnqBo",
    "outputId": "7a3ce36a-f3af-47b6-9742-3006eaa2451e"
   },
   "outputs": [
    {
     "data": {
      "text/plain": [
       "array(['Descartado', 'Confirmado Laboratorial',\n",
       "       'Confirmado Clínico-Epidemiológico',\n",
       "       'Síndrome Gripal Não Especificada', 'Confirmado Clínico-Imagem',\n",
       "       'Confirmado por Critério Clínico'], dtype=object)"
      ]
     },
     "execution_count": 12,
     "metadata": {},
     "output_type": "execute_result"
    }
   ],
   "source": [
    "df['classificacaoFinal'].unique()"
   ]
  },
  {
   "cell_type": "markdown",
   "metadata": {},
   "source": [
    "### Remove records where the label isn't \"Confirmado Laboratorial\" or \"Descartado\""
   ]
  },
  {
   "cell_type": "code",
   "execution_count": 13,
   "metadata": {
    "id": "PZG3SDKrsy2a"
   },
   "outputs": [],
   "source": [
    "df = df[df['classificacaoFinal'].isin(['Confirmado Laboratorial', 'Descartado'])]"
   ]
  },
  {
   "cell_type": "markdown",
   "metadata": {},
   "source": [
    "### Note\n",
    "Before removing unwanted labels, there where 50.060. After the removal, 50.048 have left.\n",
    "\n",
    "Would this suggest the dataset is, somehow, biased (providing more consistant data) to these two classes?"
   ]
  },
  {
   "cell_type": "code",
   "execution_count": 14,
   "metadata": {
    "colab": {
     "base_uri": "https://localhost:8080/"
    },
    "id": "z6TDb_9MtHh-",
    "outputId": "bf95b370-599f-48c0-d3b8-93af344428bb"
   },
   "outputs": [
    {
     "name": "stdout",
     "output_type": "stream",
     "text": [
      "<class 'pandas.core.frame.DataFrame'>\n",
      "Index: 50048 entries, 876563 to 6379912\n",
      "Data columns (total 20 columns):\n",
      " #   Column                        Non-Null Count  Dtype  \n",
      "---  ------                        --------------  -----  \n",
      " 0   sintomas                      50048 non-null  object \n",
      " 1   racaCor                       50048 non-null  object \n",
      " 2   outrosSintomas                50048 non-null  object \n",
      " 3   condicoes                     50048 non-null  object \n",
      " 4   sexo                          50048 non-null  object \n",
      " 5   estadoIBGE                    50048 non-null  object \n",
      " 6   municipioIBGE                 50048 non-null  object \n",
      " 7   municipioNotificacaoIBGE      50048 non-null  float64\n",
      " 8   classificacaoFinal            50048 non-null  object \n",
      " 9   codigoLaboratorioSegundaDose  50048 non-null  object \n",
      " 10  lotePrimeiraDose              50048 non-null  object \n",
      " 11  loteSegundaDose               50048 non-null  object \n",
      " 12  codigoDosesVacina             50048 non-null  object \n",
      " 13  estadoNotificacaoIBGE         50048 non-null  object \n",
      " 14  totalTestesRealizados         50048 non-null  float64\n",
      " 15  dataNotificacao               50048 non-null  object \n",
      " 16  dataInicioSintomas            50048 non-null  object \n",
      " 17  dataPrimeiraDose              50048 non-null  object \n",
      " 18  dataSegundaDose               50048 non-null  object \n",
      " 19  idade                         50048 non-null  float64\n",
      "dtypes: float64(3), object(17)\n",
      "memory usage: 8.0+ MB\n"
     ]
    }
   ],
   "source": [
    "df.info()"
   ]
  },
  {
   "cell_type": "markdown",
   "metadata": {},
   "source": [
    "## Equalize labels distribution"
   ]
  },
  {
   "cell_type": "markdown",
   "metadata": {},
   "source": [
    "### Inspect labels distribution"
   ]
  },
  {
   "cell_type": "code",
   "execution_count": 15,
   "metadata": {
    "colab": {
     "base_uri": "https://localhost:8080/",
     "height": 178
    },
    "id": "UXCm-AY0tImG",
    "outputId": "96e00081-53f9-4974-85cb-52cf69cc94fc"
   },
   "outputs": [
    {
     "data": {
      "text/plain": [
       "classificacaoFinal\n",
       "Descartado                 36079\n",
       "Confirmado Laboratorial    13969\n",
       "Name: count, dtype: int64"
      ]
     },
     "execution_count": 15,
     "metadata": {},
     "output_type": "execute_result"
    }
   ],
   "source": [
    "df['classificacaoFinal'].value_counts()"
   ]
  },
  {
   "cell_type": "markdown",
   "metadata": {},
   "source": [
    "### Undersample labels"
   ]
  },
  {
   "cell_type": "code",
   "execution_count": 16,
   "metadata": {
    "colab": {
     "base_uri": "https://localhost:8080/",
     "height": 178
    },
    "id": "W-JGLIIFtLpG",
    "outputId": "31d09cda-ae6c-451b-86af-9543c876656b"
   },
   "outputs": [],
   "source": [
    "confirmed_df = df[df[\"classificacaoFinal\"] == \"Confirmado Laboratorial\"]\n",
    "discarded_df = df[df[\"classificacaoFinal\"] == \"Descartado\"]\n",
    "\n",
    "balanced_df = pd.concat(\n",
    "    [\n",
    "        confirmed_df.sample(n=10_000, random_state=42),\n",
    "        discarded_df.sample(n=10_000, random_state=42),\n",
    "    ]\n",
    ")\n",
    "\n",
    "# Shuffle the dataset\n",
    "balanced_df = balanced_df.sample(frac=1, random_state=42).reset_index(\n",
    "    drop=True\n",
    ")"
   ]
  },
  {
   "cell_type": "markdown",
   "metadata": {},
   "source": [
    "# Arrange data"
   ]
  },
  {
   "cell_type": "markdown",
   "metadata": {},
   "source": [
    "## Arrange symptoms"
   ]
  },
  {
   "cell_type": "markdown",
   "metadata": {},
   "source": [
    "### Inspect data"
   ]
  },
  {
   "cell_type": "code",
   "execution_count": 17,
   "metadata": {
    "colab": {
     "base_uri": "https://localhost:8080/",
     "height": 293
    },
    "id": "2qhCOGWUxDV-",
    "outputId": "9bbd84a8-1797-49a2-80fd-c7fbe06794e1"
   },
   "outputs": [
    {
     "data": {
      "text/html": [
       "<div>\n",
       "<style scoped>\n",
       "    .dataframe tbody tr th:only-of-type {\n",
       "        vertical-align: middle;\n",
       "    }\n",
       "\n",
       "    .dataframe tbody tr th {\n",
       "        vertical-align: top;\n",
       "    }\n",
       "\n",
       "    .dataframe thead th {\n",
       "        text-align: right;\n",
       "    }\n",
       "</style>\n",
       "<table border=\"1\" class=\"dataframe\">\n",
       "  <thead>\n",
       "    <tr style=\"text-align: right;\">\n",
       "      <th></th>\n",
       "      <th>sintomas</th>\n",
       "      <th>racaCor</th>\n",
       "      <th>outrosSintomas</th>\n",
       "      <th>condicoes</th>\n",
       "      <th>sexo</th>\n",
       "      <th>estadoIBGE</th>\n",
       "      <th>municipioIBGE</th>\n",
       "      <th>municipioNotificacaoIBGE</th>\n",
       "      <th>classificacaoFinal</th>\n",
       "      <th>codigoLaboratorioSegundaDose</th>\n",
       "      <th>lotePrimeiraDose</th>\n",
       "      <th>loteSegundaDose</th>\n",
       "      <th>codigoDosesVacina</th>\n",
       "      <th>estadoNotificacaoIBGE</th>\n",
       "      <th>totalTestesRealizados</th>\n",
       "      <th>dataNotificacao</th>\n",
       "      <th>dataInicioSintomas</th>\n",
       "      <th>dataPrimeiraDose</th>\n",
       "      <th>dataSegundaDose</th>\n",
       "      <th>idade</th>\n",
       "    </tr>\n",
       "  </thead>\n",
       "  <tbody>\n",
       "    <tr>\n",
       "      <th>0</th>\n",
       "      <td>Febre</td>\n",
       "      <td>Branca</td>\n",
       "      <td>Disturbios olfativos, outros</td>\n",
       "      <td>Imunossupressão</td>\n",
       "      <td>Masculino</td>\n",
       "      <td>PE</td>\n",
       "      <td>2611606.0</td>\n",
       "      <td>2611606.0</td>\n",
       "      <td>Descartado</td>\n",
       "      <td>SINOVAC/BUTANTAN</td>\n",
       "      <td>210344</td>\n",
       "      <td>210453</td>\n",
       "      <td>1,2,3</td>\n",
       "      <td>PE</td>\n",
       "      <td>1.0</td>\n",
       "      <td>2024-02-16</td>\n",
       "      <td>2024-02-07</td>\n",
       "      <td>2021-08-12</td>\n",
       "      <td>2021-09-26</td>\n",
       "      <td>36.0</td>\n",
       "    </tr>\n",
       "    <tr>\n",
       "      <th>1</th>\n",
       "      <td>Tosse</td>\n",
       "      <td>Parda</td>\n",
       "      <td>Coriza, dor de garganta, outros</td>\n",
       "      <td>Diabetes</td>\n",
       "      <td>Feminino</td>\n",
       "      <td>PE</td>\n",
       "      <td>2604106.0</td>\n",
       "      <td>2604106.0</td>\n",
       "      <td>Confirmado Laboratorial</td>\n",
       "      <td>ASTRAZENECA</td>\n",
       "      <td>214VCD054Z</td>\n",
       "      <td>210197</td>\n",
       "      <td>2,1</td>\n",
       "      <td>PE</td>\n",
       "      <td>1.0</td>\n",
       "      <td>2022-06-22</td>\n",
       "      <td>2022-06-20</td>\n",
       "      <td>2021-05-14</td>\n",
       "      <td>2021-08-20</td>\n",
       "      <td>52.0</td>\n",
       "    </tr>\n",
       "    <tr>\n",
       "      <th>2</th>\n",
       "      <td>Febre</td>\n",
       "      <td>Parda</td>\n",
       "      <td>Coriza, tosse, dor de garganta, outros</td>\n",
       "      <td>Diabetes, Imunossupressão</td>\n",
       "      <td>Feminino</td>\n",
       "      <td>PE</td>\n",
       "      <td>2615300.0</td>\n",
       "      <td>2615300.0</td>\n",
       "      <td>Confirmado Laboratorial</td>\n",
       "      <td>SINOVAC/BUTANTAN</td>\n",
       "      <td>210080</td>\n",
       "      <td>210114</td>\n",
       "      <td>1,2</td>\n",
       "      <td>PE</td>\n",
       "      <td>1.0</td>\n",
       "      <td>2022-02-04</td>\n",
       "      <td>2022-02-04</td>\n",
       "      <td>2021-03-24</td>\n",
       "      <td>2021-04-14</td>\n",
       "      <td>30.0</td>\n",
       "    </tr>\n",
       "    <tr>\n",
       "      <th>3</th>\n",
       "      <td>Tosse</td>\n",
       "      <td>Parda</td>\n",
       "      <td>Coriza, dor de cabeca, dor de garganta, outros</td>\n",
       "      <td>Doenças respiratórias crônicas descompensadas</td>\n",
       "      <td>Feminino</td>\n",
       "      <td>PE</td>\n",
       "      <td>2611606.0</td>\n",
       "      <td>2611606.0</td>\n",
       "      <td>Confirmado Laboratorial</td>\n",
       "      <td>ASTRAZENECA/FIOCRUZ</td>\n",
       "      <td>214VCD107Z</td>\n",
       "      <td>217VCD234Z</td>\n",
       "      <td>1,2</td>\n",
       "      <td>PE</td>\n",
       "      <td>1.0</td>\n",
       "      <td>2022-02-03</td>\n",
       "      <td>2022-01-28</td>\n",
       "      <td>2021-06-06</td>\n",
       "      <td>2021-08-30</td>\n",
       "      <td>37.0</td>\n",
       "    </tr>\n",
       "    <tr>\n",
       "      <th>4</th>\n",
       "      <td>Tosse</td>\n",
       "      <td>Branca</td>\n",
       "      <td>Dor de cabeca, dor de garganta</td>\n",
       "      <td>Outros</td>\n",
       "      <td>Masculino</td>\n",
       "      <td>PE</td>\n",
       "      <td>2611606.0</td>\n",
       "      <td>2613701.0</td>\n",
       "      <td>Descartado</td>\n",
       "      <td>PFIZER</td>\n",
       "      <td>EW0199</td>\n",
       "      <td>FD7209</td>\n",
       "      <td>1,2</td>\n",
       "      <td>PE</td>\n",
       "      <td>1.0</td>\n",
       "      <td>2022-04-12</td>\n",
       "      <td>2022-04-09</td>\n",
       "      <td>2021-05-29</td>\n",
       "      <td>2021-08-27</td>\n",
       "      <td>42.0</td>\n",
       "    </tr>\n",
       "  </tbody>\n",
       "</table>\n",
       "</div>"
      ],
      "text/plain": [
       "  sintomas racaCor                                  outrosSintomas  \\\n",
       "0    Febre  Branca                    Disturbios olfativos, outros   \n",
       "1    Tosse   Parda                 Coriza, dor de garganta, outros   \n",
       "2    Febre   Parda          Coriza, tosse, dor de garganta, outros   \n",
       "3    Tosse   Parda  Coriza, dor de cabeca, dor de garganta, outros   \n",
       "4    Tosse  Branca                  Dor de cabeca, dor de garganta   \n",
       "\n",
       "                                       condicoes       sexo estadoIBGE  \\\n",
       "0                                Imunossupressão  Masculino         PE   \n",
       "1                                       Diabetes   Feminino         PE   \n",
       "2                      Diabetes, Imunossupressão   Feminino         PE   \n",
       "3  Doenças respiratórias crônicas descompensadas   Feminino         PE   \n",
       "4                                         Outros  Masculino         PE   \n",
       "\n",
       "  municipioIBGE  municipioNotificacaoIBGE       classificacaoFinal  \\\n",
       "0     2611606.0                 2611606.0               Descartado   \n",
       "1     2604106.0                 2604106.0  Confirmado Laboratorial   \n",
       "2     2615300.0                 2615300.0  Confirmado Laboratorial   \n",
       "3     2611606.0                 2611606.0  Confirmado Laboratorial   \n",
       "4     2611606.0                 2613701.0               Descartado   \n",
       "\n",
       "  codigoLaboratorioSegundaDose lotePrimeiraDose loteSegundaDose  \\\n",
       "0             SINOVAC/BUTANTAN           210344          210453   \n",
       "1                  ASTRAZENECA       214VCD054Z          210197   \n",
       "2             SINOVAC/BUTANTAN           210080          210114   \n",
       "3          ASTRAZENECA/FIOCRUZ       214VCD107Z      217VCD234Z   \n",
       "4                       PFIZER           EW0199          FD7209   \n",
       "\n",
       "  codigoDosesVacina estadoNotificacaoIBGE  totalTestesRealizados  \\\n",
       "0             1,2,3                    PE                    1.0   \n",
       "1               2,1                    PE                    1.0   \n",
       "2               1,2                    PE                    1.0   \n",
       "3               1,2                    PE                    1.0   \n",
       "4               1,2                    PE                    1.0   \n",
       "\n",
       "  dataNotificacao dataInicioSintomas dataPrimeiraDose dataSegundaDose  idade  \n",
       "0      2024-02-16         2024-02-07       2021-08-12      2021-09-26   36.0  \n",
       "1      2022-06-22         2022-06-20       2021-05-14      2021-08-20   52.0  \n",
       "2      2022-02-04         2022-02-04       2021-03-24      2021-04-14   30.0  \n",
       "3      2022-02-03         2022-01-28       2021-06-06      2021-08-30   37.0  \n",
       "4      2022-04-12         2022-04-09       2021-05-29      2021-08-27   42.0  "
      ]
     },
     "execution_count": 17,
     "metadata": {},
     "output_type": "execute_result"
    }
   ],
   "source": [
    "balanced_df.head()"
   ]
  },
  {
   "cell_type": "markdown",
   "metadata": {},
   "source": [
    "### Merge symptoms columns"
   ]
  },
  {
   "cell_type": "code",
   "execution_count": 18,
   "metadata": {},
   "outputs": [],
   "source": [
    "balanced_df['todosSintomas'] = balanced_df['sintomas'].str.upper() + ', ' + balanced_df['outrosSintomas'].str.upper()\n",
    "\n",
    "balanced_df.drop(['sintomas', 'outrosSintomas'], axis=1, inplace=True)"
   ]
  },
  {
   "cell_type": "markdown",
   "metadata": {},
   "source": [
    "## Encode string-based categorical data"
   ]
  },
  {
   "cell_type": "markdown",
   "metadata": {},
   "source": [
    "### Setup LabelEncoder"
   ]
  },
  {
   "cell_type": "code",
   "execution_count": 19,
   "metadata": {},
   "outputs": [],
   "source": [
    "from sklearn.preprocessing import LabelEncoder\n",
    "\n",
    "label_encoder = LabelEncoder()"
   ]
  },
  {
   "cell_type": "markdown",
   "metadata": {},
   "source": [
    "### Encode columns"
   ]
  },
  {
   "cell_type": "code",
   "execution_count": 20,
   "metadata": {},
   "outputs": [],
   "source": [
    "balanced_df['racaCor'] = label_encoder.fit_transform(balanced_df['racaCor'])\n",
    "balanced_df['sexo'] = label_encoder.fit_transform(balanced_df['sexo'])\n",
    "balanced_df['estadoIBGE'] = label_encoder.fit_transform(balanced_df['estadoIBGE'])\n",
    "balanced_df['classificacaoFinal'] = label_encoder.fit_transform(balanced_df['classificacaoFinal'])\n",
    "balanced_df['codigoLaboratorioSegundaDose'] = label_encoder.fit_transform(balanced_df['codigoLaboratorioSegundaDose'])\n",
    "balanced_df['lotePrimeiraDose'] = label_encoder.fit_transform(balanced_df['lotePrimeiraDose'])\n",
    "balanced_df['loteSegundaDose'] = label_encoder.fit_transform(balanced_df['loteSegundaDose'])\n",
    "balanced_df['estadoNotificacaoIBGE'] = label_encoder.fit_transform(balanced_df['estadoNotificacaoIBGE'])"
   ]
  },
  {
   "cell_type": "markdown",
   "metadata": {},
   "source": [
    "## Parse integers and datetimes"
   ]
  },
  {
   "cell_type": "markdown",
   "metadata": {},
   "source": [
    "### Inspect data"
   ]
  },
  {
   "cell_type": "code",
   "execution_count": 21,
   "metadata": {},
   "outputs": [
    {
     "data": {
      "text/html": [
       "<div>\n",
       "<style scoped>\n",
       "    .dataframe tbody tr th:only-of-type {\n",
       "        vertical-align: middle;\n",
       "    }\n",
       "\n",
       "    .dataframe tbody tr th {\n",
       "        vertical-align: top;\n",
       "    }\n",
       "\n",
       "    .dataframe thead th {\n",
       "        text-align: right;\n",
       "    }\n",
       "</style>\n",
       "<table border=\"1\" class=\"dataframe\">\n",
       "  <thead>\n",
       "    <tr style=\"text-align: right;\">\n",
       "      <th></th>\n",
       "      <th>racaCor</th>\n",
       "      <th>condicoes</th>\n",
       "      <th>sexo</th>\n",
       "      <th>estadoIBGE</th>\n",
       "      <th>municipioIBGE</th>\n",
       "      <th>municipioNotificacaoIBGE</th>\n",
       "      <th>classificacaoFinal</th>\n",
       "      <th>codigoLaboratorioSegundaDose</th>\n",
       "      <th>lotePrimeiraDose</th>\n",
       "      <th>loteSegundaDose</th>\n",
       "      <th>codigoDosesVacina</th>\n",
       "      <th>estadoNotificacaoIBGE</th>\n",
       "      <th>totalTestesRealizados</th>\n",
       "      <th>dataNotificacao</th>\n",
       "      <th>dataInicioSintomas</th>\n",
       "      <th>dataPrimeiraDose</th>\n",
       "      <th>dataSegundaDose</th>\n",
       "      <th>idade</th>\n",
       "      <th>todosSintomas</th>\n",
       "    </tr>\n",
       "  </thead>\n",
       "  <tbody>\n",
       "    <tr>\n",
       "      <th>0</th>\n",
       "      <td>1</td>\n",
       "      <td>Imunossupressão</td>\n",
       "      <td>1</td>\n",
       "      <td>4</td>\n",
       "      <td>2611606.0</td>\n",
       "      <td>2611606.0</td>\n",
       "      <td>1</td>\n",
       "      <td>21</td>\n",
       "      <td>92</td>\n",
       "      <td>113</td>\n",
       "      <td>1,2,3</td>\n",
       "      <td>0</td>\n",
       "      <td>1.0</td>\n",
       "      <td>2024-02-16</td>\n",
       "      <td>2024-02-07</td>\n",
       "      <td>2021-08-12</td>\n",
       "      <td>2021-09-26</td>\n",
       "      <td>36.0</td>\n",
       "      <td>FEBRE, DISTURBIOS OLFATIVOS, OUTROS</td>\n",
       "    </tr>\n",
       "    <tr>\n",
       "      <th>1</th>\n",
       "      <td>4</td>\n",
       "      <td>Diabetes</td>\n",
       "      <td>0</td>\n",
       "      <td>4</td>\n",
       "      <td>2604106.0</td>\n",
       "      <td>2604106.0</td>\n",
       "      <td>0</td>\n",
       "      <td>3</td>\n",
       "      <td>157</td>\n",
       "      <td>71</td>\n",
       "      <td>2,1</td>\n",
       "      <td>0</td>\n",
       "      <td>1.0</td>\n",
       "      <td>2022-06-22</td>\n",
       "      <td>2022-06-20</td>\n",
       "      <td>2021-05-14</td>\n",
       "      <td>2021-08-20</td>\n",
       "      <td>52.0</td>\n",
       "      <td>TOSSE, CORIZA, DOR DE GARGANTA, OUTROS</td>\n",
       "    </tr>\n",
       "    <tr>\n",
       "      <th>2</th>\n",
       "      <td>4</td>\n",
       "      <td>Diabetes, Imunossupressão</td>\n",
       "      <td>0</td>\n",
       "      <td>4</td>\n",
       "      <td>2615300.0</td>\n",
       "      <td>2615300.0</td>\n",
       "      <td>0</td>\n",
       "      <td>21</td>\n",
       "      <td>47</td>\n",
       "      <td>42</td>\n",
       "      <td>1,2</td>\n",
       "      <td>0</td>\n",
       "      <td>1.0</td>\n",
       "      <td>2022-02-04</td>\n",
       "      <td>2022-02-04</td>\n",
       "      <td>2021-03-24</td>\n",
       "      <td>2021-04-14</td>\n",
       "      <td>30.0</td>\n",
       "      <td>FEBRE, CORIZA, TOSSE, DOR DE GARGANTA, OUTROS</td>\n",
       "    </tr>\n",
       "    <tr>\n",
       "      <th>3</th>\n",
       "      <td>4</td>\n",
       "      <td>Doenças respiratórias crônicas descompensadas</td>\n",
       "      <td>0</td>\n",
       "      <td>4</td>\n",
       "      <td>2611606.0</td>\n",
       "      <td>2611606.0</td>\n",
       "      <td>0</td>\n",
       "      <td>5</td>\n",
       "      <td>182</td>\n",
       "      <td>201</td>\n",
       "      <td>1,2</td>\n",
       "      <td>0</td>\n",
       "      <td>1.0</td>\n",
       "      <td>2022-02-03</td>\n",
       "      <td>2022-01-28</td>\n",
       "      <td>2021-06-06</td>\n",
       "      <td>2021-08-30</td>\n",
       "      <td>37.0</td>\n",
       "      <td>TOSSE, CORIZA, DOR DE CABECA, DOR DE GARGANTA,...</td>\n",
       "    </tr>\n",
       "    <tr>\n",
       "      <th>4</th>\n",
       "      <td>1</td>\n",
       "      <td>Outros</td>\n",
       "      <td>1</td>\n",
       "      <td>4</td>\n",
       "      <td>2611606.0</td>\n",
       "      <td>2613701.0</td>\n",
       "      <td>1</td>\n",
       "      <td>13</td>\n",
       "      <td>262</td>\n",
       "      <td>271</td>\n",
       "      <td>1,2</td>\n",
       "      <td>0</td>\n",
       "      <td>1.0</td>\n",
       "      <td>2022-04-12</td>\n",
       "      <td>2022-04-09</td>\n",
       "      <td>2021-05-29</td>\n",
       "      <td>2021-08-27</td>\n",
       "      <td>42.0</td>\n",
       "      <td>TOSSE, DOR DE CABECA, DOR DE GARGANTA</td>\n",
       "    </tr>\n",
       "  </tbody>\n",
       "</table>\n",
       "</div>"
      ],
      "text/plain": [
       "   racaCor                                      condicoes  sexo  estadoIBGE  \\\n",
       "0        1                                Imunossupressão     1           4   \n",
       "1        4                                       Diabetes     0           4   \n",
       "2        4                      Diabetes, Imunossupressão     0           4   \n",
       "3        4  Doenças respiratórias crônicas descompensadas     0           4   \n",
       "4        1                                         Outros     1           4   \n",
       "\n",
       "  municipioIBGE  municipioNotificacaoIBGE  classificacaoFinal  \\\n",
       "0     2611606.0                 2611606.0                   1   \n",
       "1     2604106.0                 2604106.0                   0   \n",
       "2     2615300.0                 2615300.0                   0   \n",
       "3     2611606.0                 2611606.0                   0   \n",
       "4     2611606.0                 2613701.0                   1   \n",
       "\n",
       "   codigoLaboratorioSegundaDose  lotePrimeiraDose  loteSegundaDose  \\\n",
       "0                            21                92              113   \n",
       "1                             3               157               71   \n",
       "2                            21                47               42   \n",
       "3                             5               182              201   \n",
       "4                            13               262              271   \n",
       "\n",
       "  codigoDosesVacina  estadoNotificacaoIBGE  totalTestesRealizados  \\\n",
       "0             1,2,3                      0                    1.0   \n",
       "1               2,1                      0                    1.0   \n",
       "2               1,2                      0                    1.0   \n",
       "3               1,2                      0                    1.0   \n",
       "4               1,2                      0                    1.0   \n",
       "\n",
       "  dataNotificacao dataInicioSintomas dataPrimeiraDose dataSegundaDose  idade  \\\n",
       "0      2024-02-16         2024-02-07       2021-08-12      2021-09-26   36.0   \n",
       "1      2022-06-22         2022-06-20       2021-05-14      2021-08-20   52.0   \n",
       "2      2022-02-04         2022-02-04       2021-03-24      2021-04-14   30.0   \n",
       "3      2022-02-03         2022-01-28       2021-06-06      2021-08-30   37.0   \n",
       "4      2022-04-12         2022-04-09       2021-05-29      2021-08-27   42.0   \n",
       "\n",
       "                                       todosSintomas  \n",
       "0                FEBRE, DISTURBIOS OLFATIVOS, OUTROS  \n",
       "1             TOSSE, CORIZA, DOR DE GARGANTA, OUTROS  \n",
       "2      FEBRE, CORIZA, TOSSE, DOR DE GARGANTA, OUTROS  \n",
       "3  TOSSE, CORIZA, DOR DE CABECA, DOR DE GARGANTA,...  \n",
       "4              TOSSE, DOR DE CABECA, DOR DE GARGANTA  "
      ]
     },
     "execution_count": 21,
     "metadata": {},
     "output_type": "execute_result"
    }
   ],
   "source": [
    "balanced_df.head()"
   ]
  },
  {
   "cell_type": "markdown",
   "metadata": {},
   "source": [
    "### Parse numeric columns"
   ]
  },
  {
   "cell_type": "code",
   "execution_count": 22,
   "metadata": {},
   "outputs": [],
   "source": [
    "balanced_df[\"municipioIBGE\"] = pd.to_numeric(balanced_df[\"municipioIBGE\"]).astype(int)\n",
    "balanced_df['municipioNotificacaoIBGE'] = pd.to_numeric(balanced_df['municipioNotificacaoIBGE']).astype(int)\n",
    "balanced_df['totalTestesRealizados'] = pd.to_numeric(balanced_df['totalTestesRealizados']).astype(int)\n",
    "balanced_df['idade'] = pd.to_numeric(balanced_df['idade']).astype(int)"
   ]
  },
  {
   "cell_type": "markdown",
   "metadata": {},
   "source": [
    "### Parse datetime columns"
   ]
  },
  {
   "cell_type": "code",
   "execution_count": 23,
   "metadata": {},
   "outputs": [],
   "source": [
    "balanced_df['dataNotificacao'] = pd.to_datetime(balanced_df['dataNotificacao'])\n",
    "balanced_df['dataInicioSintomas'] = pd.to_datetime(balanced_df['dataInicioSintomas'])\n",
    "balanced_df['dataPrimeiraDose'] = pd.to_datetime(balanced_df['dataPrimeiraDose'])\n",
    "balanced_df['dataSegundaDose'] = pd.to_datetime(balanced_df['dataSegundaDose'])\n",
    "\n",
    "balanced_df['dataNotificacao'] = balanced_df['dataNotificacao'].apply(lambda x: x.timestamp())\n",
    "balanced_df['dataInicioSintomas'] = balanced_df['dataInicioSintomas'].apply(lambda x: x.timestamp())\n",
    "balanced_df['dataPrimeiraDose'] = balanced_df['dataPrimeiraDose'].apply(lambda x: x.timestamp())\n",
    "balanced_df['dataSegundaDose'] = balanced_df['dataSegundaDose'].apply(lambda x: x.timestamp())"
   ]
  },
  {
   "cell_type": "markdown",
   "metadata": {},
   "source": [
    "### Normalize timestamp scales"
   ]
  },
  {
   "cell_type": "code",
   "execution_count": 24,
   "metadata": {},
   "outputs": [],
   "source": [
    "from sklearn.preprocessing import MinMaxScaler\n",
    "\n",
    "scaler = MinMaxScaler()\n",
    "\n",
    "balanced_df[\"dataNotificacao\"] = scaler.fit_transform(\n",
    "    balanced_df[\"dataNotificacao\"].values.reshape(-1, 1)\n",
    ")\n",
    "balanced_df[\"dataInicioSintomas\"] = scaler.fit_transform(\n",
    "    balanced_df[\"dataInicioSintomas\"].values.reshape(-1, 1)\n",
    ")\n",
    "balanced_df[\"dataPrimeiraDose\"] = scaler.fit_transform(\n",
    "    balanced_df[\"dataPrimeiraDose\"].values.reshape(-1, 1)\n",
    ")\n",
    "balanced_df[\"dataSegundaDose\"] = scaler.fit_transform(\n",
    "    balanced_df[\"dataSegundaDose\"].values.reshape(-1, 1)\n",
    ")"
   ]
  },
  {
   "cell_type": "markdown",
   "metadata": {},
   "source": [
    "## Binarize multi-label columns\n",
    "\n",
    "The OneHotEncoder from sklearn.preprocessing is designed to work with categorical data where each entry is a single category. It does not handle lists of categories directly. When you pass a list of categories to OneHotEncoder, it treats the entire list as a single category, which leads to errors.\n",
    "\n",
    "On the other hand, MultiLabelBinarizer is specifically designed to handle lists of categories. It can take a list of categories for each entry and one-hot encode them correctly."
   ]
  },
  {
   "cell_type": "markdown",
   "metadata": {},
   "source": [
    "### Inspect data"
   ]
  },
  {
   "cell_type": "code",
   "execution_count": 25,
   "metadata": {},
   "outputs": [
    {
     "data": {
      "text/html": [
       "<div>\n",
       "<style scoped>\n",
       "    .dataframe tbody tr th:only-of-type {\n",
       "        vertical-align: middle;\n",
       "    }\n",
       "\n",
       "    .dataframe tbody tr th {\n",
       "        vertical-align: top;\n",
       "    }\n",
       "\n",
       "    .dataframe thead th {\n",
       "        text-align: right;\n",
       "    }\n",
       "</style>\n",
       "<table border=\"1\" class=\"dataframe\">\n",
       "  <thead>\n",
       "    <tr style=\"text-align: right;\">\n",
       "      <th></th>\n",
       "      <th>racaCor</th>\n",
       "      <th>condicoes</th>\n",
       "      <th>sexo</th>\n",
       "      <th>estadoIBGE</th>\n",
       "      <th>municipioIBGE</th>\n",
       "      <th>municipioNotificacaoIBGE</th>\n",
       "      <th>classificacaoFinal</th>\n",
       "      <th>codigoLaboratorioSegundaDose</th>\n",
       "      <th>lotePrimeiraDose</th>\n",
       "      <th>loteSegundaDose</th>\n",
       "      <th>codigoDosesVacina</th>\n",
       "      <th>estadoNotificacaoIBGE</th>\n",
       "      <th>totalTestesRealizados</th>\n",
       "      <th>dataNotificacao</th>\n",
       "      <th>dataInicioSintomas</th>\n",
       "      <th>dataPrimeiraDose</th>\n",
       "      <th>dataSegundaDose</th>\n",
       "      <th>idade</th>\n",
       "      <th>todosSintomas</th>\n",
       "    </tr>\n",
       "  </thead>\n",
       "  <tbody>\n",
       "    <tr>\n",
       "      <th>0</th>\n",
       "      <td>1</td>\n",
       "      <td>Imunossupressão</td>\n",
       "      <td>1</td>\n",
       "      <td>4</td>\n",
       "      <td>2611606</td>\n",
       "      <td>2611606</td>\n",
       "      <td>1</td>\n",
       "      <td>21</td>\n",
       "      <td>92</td>\n",
       "      <td>113</td>\n",
       "      <td>1,2,3</td>\n",
       "      <td>0</td>\n",
       "      <td>1</td>\n",
       "      <td>0.859375</td>\n",
       "      <td>0.878412</td>\n",
       "      <td>0.239486</td>\n",
       "      <td>0.209748</td>\n",
       "      <td>36</td>\n",
       "      <td>FEBRE, DISTURBIOS OLFATIVOS, OUTROS</td>\n",
       "    </tr>\n",
       "    <tr>\n",
       "      <th>1</th>\n",
       "      <td>4</td>\n",
       "      <td>Diabetes</td>\n",
       "      <td>0</td>\n",
       "      <td>4</td>\n",
       "      <td>2604106</td>\n",
       "      <td>2604106</td>\n",
       "      <td>0</td>\n",
       "      <td>3</td>\n",
       "      <td>157</td>\n",
       "      <td>71</td>\n",
       "      <td>2,1</td>\n",
       "      <td>0</td>\n",
       "      <td>1</td>\n",
       "      <td>0.409970</td>\n",
       "      <td>0.508065</td>\n",
       "      <td>0.134346</td>\n",
       "      <td>0.177546</td>\n",
       "      <td>52</td>\n",
       "      <td>TOSSE, CORIZA, DOR DE GARGANTA, OUTROS</td>\n",
       "    </tr>\n",
       "    <tr>\n",
       "      <th>2</th>\n",
       "      <td>4</td>\n",
       "      <td>Diabetes, Imunossupressão</td>\n",
       "      <td>0</td>\n",
       "      <td>4</td>\n",
       "      <td>2615300</td>\n",
       "      <td>2615300</td>\n",
       "      <td>0</td>\n",
       "      <td>21</td>\n",
       "      <td>47</td>\n",
       "      <td>42</td>\n",
       "      <td>1,2</td>\n",
       "      <td>0</td>\n",
       "      <td>1</td>\n",
       "      <td>0.307292</td>\n",
       "      <td>0.423697</td>\n",
       "      <td>0.074766</td>\n",
       "      <td>0.066144</td>\n",
       "      <td>30</td>\n",
       "      <td>FEBRE, CORIZA, TOSSE, DOR DE GARGANTA, OUTROS</td>\n",
       "    </tr>\n",
       "    <tr>\n",
       "      <th>3</th>\n",
       "      <td>4</td>\n",
       "      <td>Doenças respiratórias crônicas descompensadas</td>\n",
       "      <td>0</td>\n",
       "      <td>4</td>\n",
       "      <td>2611606</td>\n",
       "      <td>2611606</td>\n",
       "      <td>0</td>\n",
       "      <td>5</td>\n",
       "      <td>182</td>\n",
       "      <td>201</td>\n",
       "      <td>1,2</td>\n",
       "      <td>0</td>\n",
       "      <td>1</td>\n",
       "      <td>0.306548</td>\n",
       "      <td>0.419355</td>\n",
       "      <td>0.161215</td>\n",
       "      <td>0.186249</td>\n",
       "      <td>37</td>\n",
       "      <td>TOSSE, CORIZA, DOR DE CABECA, DOR DE GARGANTA,...</td>\n",
       "    </tr>\n",
       "    <tr>\n",
       "      <th>4</th>\n",
       "      <td>1</td>\n",
       "      <td>Outros</td>\n",
       "      <td>1</td>\n",
       "      <td>4</td>\n",
       "      <td>2611606</td>\n",
       "      <td>2613701</td>\n",
       "      <td>1</td>\n",
       "      <td>13</td>\n",
       "      <td>262</td>\n",
       "      <td>271</td>\n",
       "      <td>1,2</td>\n",
       "      <td>0</td>\n",
       "      <td>1</td>\n",
       "      <td>0.357143</td>\n",
       "      <td>0.463400</td>\n",
       "      <td>0.151869</td>\n",
       "      <td>0.183638</td>\n",
       "      <td>42</td>\n",
       "      <td>TOSSE, DOR DE CABECA, DOR DE GARGANTA</td>\n",
       "    </tr>\n",
       "  </tbody>\n",
       "</table>\n",
       "</div>"
      ],
      "text/plain": [
       "   racaCor                                      condicoes  sexo  estadoIBGE  \\\n",
       "0        1                                Imunossupressão     1           4   \n",
       "1        4                                       Diabetes     0           4   \n",
       "2        4                      Diabetes, Imunossupressão     0           4   \n",
       "3        4  Doenças respiratórias crônicas descompensadas     0           4   \n",
       "4        1                                         Outros     1           4   \n",
       "\n",
       "   municipioIBGE  municipioNotificacaoIBGE  classificacaoFinal  \\\n",
       "0        2611606                   2611606                   1   \n",
       "1        2604106                   2604106                   0   \n",
       "2        2615300                   2615300                   0   \n",
       "3        2611606                   2611606                   0   \n",
       "4        2611606                   2613701                   1   \n",
       "\n",
       "   codigoLaboratorioSegundaDose  lotePrimeiraDose  loteSegundaDose  \\\n",
       "0                            21                92              113   \n",
       "1                             3               157               71   \n",
       "2                            21                47               42   \n",
       "3                             5               182              201   \n",
       "4                            13               262              271   \n",
       "\n",
       "  codigoDosesVacina  estadoNotificacaoIBGE  totalTestesRealizados  \\\n",
       "0             1,2,3                      0                      1   \n",
       "1               2,1                      0                      1   \n",
       "2               1,2                      0                      1   \n",
       "3               1,2                      0                      1   \n",
       "4               1,2                      0                      1   \n",
       "\n",
       "   dataNotificacao  dataInicioSintomas  dataPrimeiraDose  dataSegundaDose  \\\n",
       "0         0.859375            0.878412          0.239486         0.209748   \n",
       "1         0.409970            0.508065          0.134346         0.177546   \n",
       "2         0.307292            0.423697          0.074766         0.066144   \n",
       "3         0.306548            0.419355          0.161215         0.186249   \n",
       "4         0.357143            0.463400          0.151869         0.183638   \n",
       "\n",
       "   idade                                      todosSintomas  \n",
       "0     36                FEBRE, DISTURBIOS OLFATIVOS, OUTROS  \n",
       "1     52             TOSSE, CORIZA, DOR DE GARGANTA, OUTROS  \n",
       "2     30      FEBRE, CORIZA, TOSSE, DOR DE GARGANTA, OUTROS  \n",
       "3     37  TOSSE, CORIZA, DOR DE CABECA, DOR DE GARGANTA,...  \n",
       "4     42              TOSSE, DOR DE CABECA, DOR DE GARGANTA  "
      ]
     },
     "execution_count": 25,
     "metadata": {},
     "output_type": "execute_result"
    }
   ],
   "source": [
    "balanced_df.head()"
   ]
  },
  {
   "cell_type": "markdown",
   "metadata": {},
   "source": [
    "### Turn comma-separated columns into lists"
   ]
  },
  {
   "cell_type": "code",
   "execution_count": 26,
   "metadata": {},
   "outputs": [],
   "source": [
    "import re\n",
    "\n",
    "balanced_df[\"codigoDosesVacina\"] = balanced_df[\"codigoDosesVacina\"].str.split(\",\")\n",
    "balanced_df[\"todosSintomas\"] = (\n",
    "    balanced_df[\"todosSintomas\"]\n",
    "    .str.split(\",\")\n",
    "    .apply(lambda x: list(set(item.strip().upper() for item in x)))\n",
    ")\n",
    "balanced_df[\"condicoes\"] = (\n",
    "    balanced_df[\"condicoes\"]\n",
    "    .apply(lambda x: re.sub(r'\\(.*?\\)', '', x))\n",
    "    .str\n",
    "    .split(\",\")\n",
    "    .apply(lambda x: list(set(item.strip().upper() for item in x)))\n",
    ")"
   ]
  },
  {
   "cell_type": "markdown",
   "metadata": {},
   "source": [
    "### Setup MultiLabelBinarizer"
   ]
  },
  {
   "cell_type": "code",
   "execution_count": 27,
   "metadata": {},
   "outputs": [],
   "source": [
    "from sklearn.preprocessing import MultiLabelBinarizer\n",
    "\n",
    "multi_label_binarizer = MultiLabelBinarizer()"
   ]
  },
  {
   "cell_type": "markdown",
   "metadata": {},
   "source": [
    "### Encode columns"
   ]
  },
  {
   "cell_type": "code",
   "execution_count": 28,
   "metadata": {},
   "outputs": [],
   "source": [
    "from utils import dose_ordinals\n",
    "\n",
    "\n",
    "def to_camel_case(s: str) -> str:\n",
    "    parts = s.lower().split()\n",
    "    camel_case_string = parts[0] + \"\".join(word.capitalize() for word in parts[1:])\n",
    "    return camel_case_string\n",
    "\n",
    "\n",
    "encoded_doses = multi_label_binarizer.fit_transform(balanced_df[\"codigoDosesVacina\"])\n",
    "encoded_doses_df = pd.DataFrame(\n",
    "    encoded_doses,\n",
    "    columns=[f\"{dose_ordinals[int(n)]}Dose\" for n in multi_label_binarizer.classes_],\n",
    ")\n",
    "\n",
    "encoded_symptoms = multi_label_binarizer.fit_transform(balanced_df[\"todosSintomas\"])\n",
    "encoded_symptoms_df = pd.DataFrame(\n",
    "    encoded_symptoms,\n",
    "    columns=[to_camel_case(sintoma) for sintoma in multi_label_binarizer.classes_],\n",
    ")\n",
    "\n",
    "encoded_conditions = multi_label_binarizer.fit_transform(balanced_df[\"condicoes\"])\n",
    "encoded_conditions_df = pd.DataFrame(\n",
    "    encoded_conditions,\n",
    "    columns=[to_camel_case(condicao) for condicao in multi_label_binarizer.classes_],\n",
    ")\n",
    "\n",
    "balanced_df = pd.concat(\n",
    "    [balanced_df, encoded_doses_df, encoded_symptoms_df, encoded_conditions_df], axis=1\n",
    ").drop([\"codigoDosesVacina\", \"todosSintomas\", \"condicoes\"], axis=1)"
   ]
  },
  {
   "cell_type": "markdown",
   "metadata": {
    "id": "DWXuF3KIxhFs"
   },
   "source": [
    "# Split data"
   ]
  },
  {
   "cell_type": "markdown",
   "metadata": {},
   "source": [
    "## Inspect data"
   ]
  },
  {
   "cell_type": "code",
   "execution_count": 29,
   "metadata": {},
   "outputs": [
    {
     "data": {
      "text/html": [
       "<div>\n",
       "<style scoped>\n",
       "    .dataframe tbody tr th:only-of-type {\n",
       "        vertical-align: middle;\n",
       "    }\n",
       "\n",
       "    .dataframe tbody tr th {\n",
       "        vertical-align: top;\n",
       "    }\n",
       "\n",
       "    .dataframe thead th {\n",
       "        text-align: right;\n",
       "    }\n",
       "</style>\n",
       "<table border=\"1\" class=\"dataframe\">\n",
       "  <thead>\n",
       "    <tr style=\"text-align: right;\">\n",
       "      <th></th>\n",
       "      <th>racaCor</th>\n",
       "      <th>sexo</th>\n",
       "      <th>estadoIBGE</th>\n",
       "      <th>municipioIBGE</th>\n",
       "      <th>municipioNotificacaoIBGE</th>\n",
       "      <th>classificacaoFinal</th>\n",
       "      <th>codigoLaboratorioSegundaDose</th>\n",
       "      <th>lotePrimeiraDose</th>\n",
       "      <th>loteSegundaDose</th>\n",
       "      <th>estadoNotificacaoIBGE</th>\n",
       "      <th>...</th>\n",
       "      <th>diabetes</th>\n",
       "      <th>doençasCardíacasCrônicas</th>\n",
       "      <th>doençasRenaisCrônicasEmEstágioAvançado</th>\n",
       "      <th>doençasRespiratóriasCrônicasDescompensadas</th>\n",
       "      <th>gestante</th>\n",
       "      <th>imunossupressão</th>\n",
       "      <th>obesidade</th>\n",
       "      <th>outros</th>\n",
       "      <th>portadorDeDoençasCromossômicasOuEstadoDeFragilidadeImunológica</th>\n",
       "      <th>puérpera</th>\n",
       "    </tr>\n",
       "  </thead>\n",
       "  <tbody>\n",
       "    <tr>\n",
       "      <th>0</th>\n",
       "      <td>1</td>\n",
       "      <td>1</td>\n",
       "      <td>4</td>\n",
       "      <td>2611606</td>\n",
       "      <td>2611606</td>\n",
       "      <td>1</td>\n",
       "      <td>21</td>\n",
       "      <td>92</td>\n",
       "      <td>113</td>\n",
       "      <td>0</td>\n",
       "      <td>...</td>\n",
       "      <td>0</td>\n",
       "      <td>0</td>\n",
       "      <td>0</td>\n",
       "      <td>0</td>\n",
       "      <td>0</td>\n",
       "      <td>1</td>\n",
       "      <td>0</td>\n",
       "      <td>0</td>\n",
       "      <td>0</td>\n",
       "      <td>0</td>\n",
       "    </tr>\n",
       "    <tr>\n",
       "      <th>1</th>\n",
       "      <td>4</td>\n",
       "      <td>0</td>\n",
       "      <td>4</td>\n",
       "      <td>2604106</td>\n",
       "      <td>2604106</td>\n",
       "      <td>0</td>\n",
       "      <td>3</td>\n",
       "      <td>157</td>\n",
       "      <td>71</td>\n",
       "      <td>0</td>\n",
       "      <td>...</td>\n",
       "      <td>1</td>\n",
       "      <td>0</td>\n",
       "      <td>0</td>\n",
       "      <td>0</td>\n",
       "      <td>0</td>\n",
       "      <td>0</td>\n",
       "      <td>0</td>\n",
       "      <td>0</td>\n",
       "      <td>0</td>\n",
       "      <td>0</td>\n",
       "    </tr>\n",
       "    <tr>\n",
       "      <th>2</th>\n",
       "      <td>4</td>\n",
       "      <td>0</td>\n",
       "      <td>4</td>\n",
       "      <td>2615300</td>\n",
       "      <td>2615300</td>\n",
       "      <td>0</td>\n",
       "      <td>21</td>\n",
       "      <td>47</td>\n",
       "      <td>42</td>\n",
       "      <td>0</td>\n",
       "      <td>...</td>\n",
       "      <td>1</td>\n",
       "      <td>0</td>\n",
       "      <td>0</td>\n",
       "      <td>0</td>\n",
       "      <td>0</td>\n",
       "      <td>1</td>\n",
       "      <td>0</td>\n",
       "      <td>0</td>\n",
       "      <td>0</td>\n",
       "      <td>0</td>\n",
       "    </tr>\n",
       "    <tr>\n",
       "      <th>3</th>\n",
       "      <td>4</td>\n",
       "      <td>0</td>\n",
       "      <td>4</td>\n",
       "      <td>2611606</td>\n",
       "      <td>2611606</td>\n",
       "      <td>0</td>\n",
       "      <td>5</td>\n",
       "      <td>182</td>\n",
       "      <td>201</td>\n",
       "      <td>0</td>\n",
       "      <td>...</td>\n",
       "      <td>0</td>\n",
       "      <td>0</td>\n",
       "      <td>0</td>\n",
       "      <td>1</td>\n",
       "      <td>0</td>\n",
       "      <td>0</td>\n",
       "      <td>0</td>\n",
       "      <td>0</td>\n",
       "      <td>0</td>\n",
       "      <td>0</td>\n",
       "    </tr>\n",
       "    <tr>\n",
       "      <th>4</th>\n",
       "      <td>1</td>\n",
       "      <td>1</td>\n",
       "      <td>4</td>\n",
       "      <td>2611606</td>\n",
       "      <td>2613701</td>\n",
       "      <td>1</td>\n",
       "      <td>13</td>\n",
       "      <td>262</td>\n",
       "      <td>271</td>\n",
       "      <td>0</td>\n",
       "      <td>...</td>\n",
       "      <td>0</td>\n",
       "      <td>0</td>\n",
       "      <td>0</td>\n",
       "      <td>0</td>\n",
       "      <td>0</td>\n",
       "      <td>0</td>\n",
       "      <td>0</td>\n",
       "      <td>1</td>\n",
       "      <td>0</td>\n",
       "      <td>0</td>\n",
       "    </tr>\n",
       "  </tbody>\n",
       "</table>\n",
       "<p>5 rows × 39 columns</p>\n",
       "</div>"
      ],
      "text/plain": [
       "   racaCor  sexo  estadoIBGE  municipioIBGE  municipioNotificacaoIBGE  \\\n",
       "0        1     1           4        2611606                   2611606   \n",
       "1        4     0           4        2604106                   2604106   \n",
       "2        4     0           4        2615300                   2615300   \n",
       "3        4     0           4        2611606                   2611606   \n",
       "4        1     1           4        2611606                   2613701   \n",
       "\n",
       "   classificacaoFinal  codigoLaboratorioSegundaDose  lotePrimeiraDose  \\\n",
       "0                   1                            21                92   \n",
       "1                   0                             3               157   \n",
       "2                   0                            21                47   \n",
       "3                   0                             5               182   \n",
       "4                   1                            13               262   \n",
       "\n",
       "   loteSegundaDose  estadoNotificacaoIBGE  ...  diabetes  \\\n",
       "0              113                      0  ...         0   \n",
       "1               71                      0  ...         1   \n",
       "2               42                      0  ...         1   \n",
       "3              201                      0  ...         0   \n",
       "4              271                      0  ...         0   \n",
       "\n",
       "   doençasCardíacasCrônicas  doençasRenaisCrônicasEmEstágioAvançado  \\\n",
       "0                         0                                       0   \n",
       "1                         0                                       0   \n",
       "2                         0                                       0   \n",
       "3                         0                                       0   \n",
       "4                         0                                       0   \n",
       "\n",
       "   doençasRespiratóriasCrônicasDescompensadas  gestante  imunossupressão  \\\n",
       "0                                           0         0                1   \n",
       "1                                           0         0                0   \n",
       "2                                           0         0                1   \n",
       "3                                           1         0                0   \n",
       "4                                           0         0                0   \n",
       "\n",
       "   obesidade  outros  \\\n",
       "0          0       0   \n",
       "1          0       0   \n",
       "2          0       0   \n",
       "3          0       0   \n",
       "4          0       1   \n",
       "\n",
       "   portadorDeDoençasCromossômicasOuEstadoDeFragilidadeImunológica  puérpera  \n",
       "0                                                  0                      0  \n",
       "1                                                  0                      0  \n",
       "2                                                  0                      0  \n",
       "3                                                  0                      0  \n",
       "4                                                  0                      0  \n",
       "\n",
       "[5 rows x 39 columns]"
      ]
     },
     "execution_count": 29,
     "metadata": {},
     "output_type": "execute_result"
    }
   ],
   "source": [
    "balanced_df.head()"
   ]
  },
  {
   "cell_type": "markdown",
   "metadata": {},
   "source": [
    "## Split by prediction label"
   ]
  },
  {
   "cell_type": "code",
   "execution_count": 30,
   "metadata": {
    "id": "TZVz6POBxEX_"
   },
   "outputs": [],
   "source": [
    "from sklearn.model_selection import train_test_split\n",
    "\n",
    "X = balanced_df.drop(\"classificacaoFinal\", axis=1)\n",
    "y = balanced_df[\"classificacaoFinal\"]\n",
    "\n",
    "X_train, X_test, y_train, y_test = train_test_split(\n",
    "    X, y, test_size=0.3, random_state=42, stratify=y\n",
    ")"
   ]
  },
  {
   "cell_type": "markdown",
   "metadata": {},
   "source": [
    "# Distribute data"
   ]
  },
  {
   "cell_type": "code",
   "execution_count": 31,
   "metadata": {},
   "outputs": [],
   "source": [
    "pd.concat([X_train, y_train], axis=1).to_csv(\"data/symptoms-with-conditions-train.csv\", index=False)\n",
    "pd.concat([X_test, y_test], axis=1).to_csv(\"data/symptoms-with-conditions-test.csv\", index=False)"
   ]
  }
 ],
 "metadata": {
  "colab": {
   "provenance": []
  },
  "kernelspec": {
   "display_name": "sars-decision-tree-FdHgHNSR",
   "language": "python",
   "name": "python3"
  },
  "language_info": {
   "codemirror_mode": {
    "name": "ipython",
    "version": 3
   },
   "file_extension": ".py",
   "mimetype": "text/x-python",
   "name": "python",
   "nbconvert_exporter": "python",
   "pygments_lexer": "ipython3",
   "version": "3.12.7"
  }
 },
 "nbformat": 4,
 "nbformat_minor": 0
}
